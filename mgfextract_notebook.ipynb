{
 "cells": [
  {
   "cell_type": "markdown",
   "metadata": {},
   "source": [
    "### Extracting specific subsets from an mgf file by using the gt file"
   ]
  },
  {
   "cell_type": "code",
   "execution_count": 1,
   "metadata": {
    "collapsed": false
   },
   "outputs": [],
   "source": [
    "import numpy\n",
    "import pandas as pd\n",
    "import csv\n",
    "import xlrd\n",
    "import glob\n",
    "import os\n",
    "import re\n",
    "import random\n",
    "import fileinput\n",
    "import sys\n",
    "basedir = '/Users/anamaria/Documents/git/iprg2012/mgf_extract'\n",
    "sys.path.append(basedir)\n",
    "from mgf_extract import *\n",
    "\n",
    "import warnings\n",
    "warnings.filterwarnings('ignore')"
   ]
  },
  {
   "cell_type": "code",
   "execution_count": 2,
   "metadata": {
    "collapsed": false
   },
   "outputs": [],
   "source": [
    "file_location = '/Users/anamaria/Documents/git/iprg2012/supporting docs/mcp.M113.032813-4.xlsx'\n",
    "workbook = xlrd.open_workbook(file_location)\n",
    "sheet = workbook.sheet_by_index(0)\n",
    "\n",
    "sheet_values = [[sheet.cell_value(r,c) for c in range(sheet.ncols)] for r in range(sheet.nrows)]\n",
    "headers = sheet_values.pop(0)\n",
    "df = pd.DataFrame(sheet_values, columns = headers)\n",
    "# useful col_names ['ClusterSortOrder', 'cycle.Experiment',\n",
    "#         'RT_min','Precursor_z_di','Precursor_MH+_theoretical',\n",
    "#         'numYSinRow' ,'mostCommonYSsequence','k name','r name','sty name',\n",
    "#         'spikedPeptideUC', 'nTerm', 'd name',\n",
    "#          'e name','m name','q name','n name','w name']]\n",
    "\n"
   ]
  },
  {
   "cell_type": "code",
   "execution_count": 3,
   "metadata": {
    "collapsed": false
   },
   "outputs": [],
   "source": [
    "#select the type of modification you want to look at\n",
    "\n",
    "#no modification\n",
    "dfnon = df[(df['sty name'] == '') & (df['k name'] == '') & (df['r name'] == '') &\n",
    "          (df['nTerm'] == '') & (df['d name'] == '') & (df['e name'] == '') &\n",
    "           (df['m name'] == '') & (df['q name'] == '') & (df['n name'] == '') &\n",
    "           (df['w name'] == '')]\n",
    "#phosphorylation\n",
    "dfphos = df[df['sty name'] == 'Phospho']\n",
    "#methylation\n",
    "dfmet = df[(df['k name'] == 'Methyl') | (df['r name'] == 'Methyl')]\n",
    "#dimethylation\n",
    "dfdimet = df[(df['k name'] == 'Dimethyl') | (df['r name'] == 'Dimethyl')]\n",
    "#trimethylation\n",
    "dftrimet = df[(df['k name'] == 'Trimethyl') | (df['r name'] == 'Trimethyl')]\n",
    "#acetylation\n",
    "dfacetyl = df[(df['nTerm'] == 'Acetyl') | (df['k name'] == 'Acetyl')]\n",
    "#nitrosilation\n",
    "dfnitro = df[(df['sty name'] == 'Nitro')]\n"
   ]
  },
  {
   "cell_type": "markdown",
   "metadata": {},
   "source": [
    "Use the method (write_title) from mgf_extract to create the required mgf files."
   ]
  },
  {
   "cell_type": "code",
   "execution_count": 23,
   "metadata": {
    "collapsed": true
   },
   "outputs": [],
   "source": [
    "write_title(dfphos, \"phos\")"
   ]
  },
  {
   "cell_type": "code",
   "execution_count": 10,
   "metadata": {
    "collapsed": true
   },
   "outputs": [],
   "source": [
    "write_title(dfacetyl, \"acetyl\")"
   ]
  },
  {
   "cell_type": "code",
   "execution_count": 5,
   "metadata": {
    "collapsed": true
   },
   "outputs": [],
   "source": [
    "write_title(dfmet, \"met\")\n",
    "write_title(dfdimet, \"dimet\")\n",
    "write_title(dftrimet, \"trimet\")"
   ]
  },
  {
   "cell_type": "code",
   "execution_count": 5,
   "metadata": {
    "collapsed": true
   },
   "outputs": [],
   "source": [
    "write_title(dfnitro, \"nitro\")"
   ]
  },
  {
   "cell_type": "code",
   "execution_count": 4,
   "metadata": {
    "collapsed": false
   },
   "outputs": [],
   "source": [
    "write_title(dfnon, \"noptm\")"
   ]
  },
  {
   "cell_type": "code",
   "execution_count": 6,
   "metadata": {
    "collapsed": true
   },
   "outputs": [],
   "source": [
    "df370non = dfnon.sample(frac=1)[:370]"
   ]
  },
  {
   "cell_type": "code",
   "execution_count": 8,
   "metadata": {
    "collapsed": true
   },
   "outputs": [],
   "source": [
    "df485non = dfnon.sample(frac=1)[:485]"
   ]
  },
  {
   "cell_type": "code",
   "execution_count": 9,
   "metadata": {
    "collapsed": true
   },
   "outputs": [],
   "source": [
    "write_title(df485non, \"485non\")"
   ]
  },
  {
   "cell_type": "code",
   "execution_count": 7,
   "metadata": {
    "collapsed": false
   },
   "outputs": [],
   "source": [
    "write_title(df370non, \"370non\")"
   ]
  },
  {
   "cell_type": "code",
   "execution_count": 14,
   "metadata": {
    "collapsed": true
   },
   "outputs": [],
   "source": [
    "write_title(df, \"all\")"
   ]
  }
 ],
 "metadata": {
  "kernelspec": {
   "display_name": "Python 2",
   "language": "python",
   "name": "python2"
  },
  "language_info": {
   "codemirror_mode": {
    "name": "ipython",
    "version": 2
   },
   "file_extension": ".py",
   "mimetype": "text/x-python",
   "name": "python",
   "nbconvert_exporter": "python",
   "pygments_lexer": "ipython2",
   "version": "2.7.12"
  }
 },
 "nbformat": 4,
 "nbformat_minor": 0
}
